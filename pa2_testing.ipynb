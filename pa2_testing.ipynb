{
 "cells": [
  {
   "cell_type": "code",
   "execution_count": 2,
   "metadata": {
    "collapsed": true
   },
   "outputs": [],
   "source": [
    "import sys\n",
    "import os\n",
    "import argparse\n",
    "import numpy as np\n",
    "import json\n"
   ]
  },
  {
   "cell_type": "code",
   "execution_count": 4,
   "metadata": {},
   "outputs": [
    {
     "name": "stdout",
     "output_type": "stream",
     "text": [
      "[[ 0.02938439 -0.00837927  0.03701083  0.02592763 -0.13098356  0.02176749\n",
      "   0.01146597 -0.01899485 -0.19790851 -0.15880463]\n",
      " [ 0.21755079 -0.05989037 -0.02444523  0.0066403   0.05313161  0.00593874\n",
      "  -0.0118831  -0.02166014 -0.14899592 -0.12084837]\n",
      " [-0.10837655  0.02194826 -0.09289867 -0.07628908 -0.09780317  0.05113322\n",
      "   0.17632789 -0.07327587 -0.14078447  0.04239597]\n",
      " [ 0.11774033  0.06371223 -0.0108545  -0.10230228 -0.0003291   0.04329244\n",
      "  -0.08109772 -0.19189023 -0.15510948  0.11573984]\n",
      " [ 0.01488795 -0.04246038 -0.10342778  0.09956814 -0.06753435  0.19114693\n",
      "  -0.03522358 -0.10984844  0.10718706  0.1312268 ]]\n",
      "(5, 10)\n"
     ]
    }
   ],
   "source": [
    "# test np.random.normal\n",
    "shape = (5, 10)\n",
    "test_rand_matrix = np.random.normal(0, 0.1, size = shape)\n",
    "print(test_rand_matrix)\n",
    "print(test_rand_matrix.shape)"
   ]
  },
  {
   "cell_type": "code",
   "execution_count": 6,
   "metadata": {},
   "outputs": [
    {
     "name": "stdout",
     "output_type": "stream",
     "text": [
      "[[ 0.  0.  0.  0.  0.  0.  0.  0.  0.  0.]\n",
      " [ 0.  0.  0.  0.  0.  0.  0.  0.  0.  0.]\n",
      " [ 0.  0.  0.  0.  0.  0.  0.  0.  0.  0.]\n",
      " [ 0.  0.  0.  0.  0.  0.  0.  0.  0.  0.]\n",
      " [ 0.  0.  0.  0.  0.  0.  0.  0.  0.  0.]]\n",
      "(5, 10)\n"
     ]
    }
   ],
   "source": [
    "# test np.zeros\n",
    "shape = (5, 10)\n",
    "test_zeros_matrix = np.zeros(shape)\n",
    "print(test_zeros_matrix)\n",
    "print(test_zeros_matrix.shape)"
   ]
  },
  {
   "cell_type": "code",
   "execution_count": 14,
   "metadata": {},
   "outputs": [
    {
     "name": "stdout",
     "output_type": "stream",
     "text": [
      "[ 1.76159416  1.96402758  1.99505475  1.9993293   1.9999092   1.99998771\n",
      "  1.99999834  1.99999977  1.99999997]\n"
     ]
    }
   ],
   "source": [
    "# test tanh function \n",
    "X = np.arange(1,10)\n",
    "forward_output = (2/(1 + np.exp(-2*X)))\n",
    "print(forward_output)"
   ]
  },
  {
   "cell_type": "code",
   "execution_count": 20,
   "metadata": {},
   "outputs": [
    {
     "name": "stdout",
     "output_type": "stream",
     "text": [
      "[1 0 1 1 0 1 0 1 1 0]\n",
      "[1 0 1 1 0 1 0 1 1 0]\n"
     ]
    }
   ],
   "source": [
    "x = np.random.randint(0, 2, 10)\n",
    "mask = (x > 0)*1\n",
    "print(x)\n",
    "print(mask)"
   ]
  }
 ],
 "metadata": {
  "kernelspec": {
   "display_name": "Python 3",
   "language": "python",
   "name": "python3"
  },
  "language_info": {
   "codemirror_mode": {
    "name": "ipython",
    "version": 3
   },
   "file_extension": ".py",
   "mimetype": "text/x-python",
   "name": "python",
   "nbconvert_exporter": "python",
   "pygments_lexer": "ipython3",
   "version": "3.6.10"
  }
 },
 "nbformat": 4,
 "nbformat_minor": 2
}
